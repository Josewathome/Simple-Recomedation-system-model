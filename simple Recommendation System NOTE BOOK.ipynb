{
 "cells": [
  {
   "cell_type": "markdown",
   "id": "c4e771a4",
   "metadata": {},
   "source": [
    "# implementation RECOMENDATION SYSTEM ML"
   ]
  },
  {
   "cell_type": "markdown",
   "id": "b0bf9a5e",
   "metadata": {},
   "source": [
    "### Importing Libraries"
   ]
  },
  {
   "cell_type": "code",
   "execution_count": 57,
   "id": "adb20a7d",
   "metadata": {},
   "outputs": [],
   "source": [
    "import numpy as np\n",
    "import pandas as pd\n",
    "import sklearn\n",
    "import matplotlib.pyplot as plt\n",
    "import seaborn as sns\n",
    "import warnings\n",
    "warnings.simplefilter(action = 'ignore', category =FutureWarning)"
   ]
  },
  {
   "cell_type": "markdown",
   "id": "59615874",
   "metadata": {},
   "source": [
    "### Loading Dataset"
   ]
  },
  {
   "cell_type": "code",
   "execution_count": 58,
   "id": "42cb8acc",
   "metadata": {},
   "outputs": [
    {
     "data": {
      "text/html": [
       "<div>\n",
       "<style scoped>\n",
       "    .dataframe tbody tr th:only-of-type {\n",
       "        vertical-align: middle;\n",
       "    }\n",
       "\n",
       "    .dataframe tbody tr th {\n",
       "        vertical-align: top;\n",
       "    }\n",
       "\n",
       "    .dataframe thead th {\n",
       "        text-align: right;\n",
       "    }\n",
       "</style>\n",
       "<table border=\"1\" class=\"dataframe\">\n",
       "  <thead>\n",
       "    <tr style=\"text-align: right;\">\n",
       "      <th></th>\n",
       "      <th>userId</th>\n",
       "      <th>movieId</th>\n",
       "      <th>rating</th>\n",
       "      <th>timestamp</th>\n",
       "    </tr>\n",
       "  </thead>\n",
       "  <tbody>\n",
       "    <tr>\n",
       "      <th>0</th>\n",
       "      <td>1</td>\n",
       "      <td>1</td>\n",
       "      <td>4.0</td>\n",
       "      <td>964982703</td>\n",
       "    </tr>\n",
       "    <tr>\n",
       "      <th>1</th>\n",
       "      <td>1</td>\n",
       "      <td>3</td>\n",
       "      <td>4.0</td>\n",
       "      <td>964981247</td>\n",
       "    </tr>\n",
       "    <tr>\n",
       "      <th>2</th>\n",
       "      <td>1</td>\n",
       "      <td>6</td>\n",
       "      <td>4.0</td>\n",
       "      <td>964982224</td>\n",
       "    </tr>\n",
       "    <tr>\n",
       "      <th>3</th>\n",
       "      <td>1</td>\n",
       "      <td>47</td>\n",
       "      <td>5.0</td>\n",
       "      <td>964983815</td>\n",
       "    </tr>\n",
       "    <tr>\n",
       "      <th>4</th>\n",
       "      <td>1</td>\n",
       "      <td>50</td>\n",
       "      <td>5.0</td>\n",
       "      <td>964982931</td>\n",
       "    </tr>\n",
       "  </tbody>\n",
       "</table>\n",
       "</div>"
      ],
      "text/plain": [
       "   userId  movieId  rating  timestamp\n",
       "0       1        1     4.0  964982703\n",
       "1       1        3     4.0  964981247\n",
       "2       1        6     4.0  964982224\n",
       "3       1       47     5.0  964983815\n",
       "4       1       50     5.0  964982931"
      ]
     },
     "execution_count": 58,
     "metadata": {},
     "output_type": "execute_result"
    }
   ],
   "source": [
    "# Loading the rating dataset\n",
    "ratings = pd.read_csv(\"F:/machine learning projects/CLASSIFICATION/P03/ratings.csv\")\n",
    "ratings.head()"
   ]
  },
  {
   "cell_type": "code",
   "execution_count": 59,
   "id": "4b934161",
   "metadata": {},
   "outputs": [
    {
     "data": {
      "text/html": [
       "<div>\n",
       "<style scoped>\n",
       "    .dataframe tbody tr th:only-of-type {\n",
       "        vertical-align: middle;\n",
       "    }\n",
       "\n",
       "    .dataframe tbody tr th {\n",
       "        vertical-align: top;\n",
       "    }\n",
       "\n",
       "    .dataframe thead th {\n",
       "        text-align: right;\n",
       "    }\n",
       "</style>\n",
       "<table border=\"1\" class=\"dataframe\">\n",
       "  <thead>\n",
       "    <tr style=\"text-align: right;\">\n",
       "      <th></th>\n",
       "      <th>movieId</th>\n",
       "      <th>title</th>\n",
       "      <th>genres</th>\n",
       "    </tr>\n",
       "  </thead>\n",
       "  <tbody>\n",
       "    <tr>\n",
       "      <th>0</th>\n",
       "      <td>1</td>\n",
       "      <td>Toy Story (1995)</td>\n",
       "      <td>Adventure|Animation|Children|Comedy|Fantasy</td>\n",
       "    </tr>\n",
       "    <tr>\n",
       "      <th>1</th>\n",
       "      <td>2</td>\n",
       "      <td>Jumanji (1995)</td>\n",
       "      <td>Adventure|Children|Fantasy</td>\n",
       "    </tr>\n",
       "    <tr>\n",
       "      <th>2</th>\n",
       "      <td>3</td>\n",
       "      <td>Grumpier Old Men (1995)</td>\n",
       "      <td>Comedy|Romance</td>\n",
       "    </tr>\n",
       "    <tr>\n",
       "      <th>3</th>\n",
       "      <td>4</td>\n",
       "      <td>Waiting to Exhale (1995)</td>\n",
       "      <td>Comedy|Drama|Romance</td>\n",
       "    </tr>\n",
       "    <tr>\n",
       "      <th>4</th>\n",
       "      <td>5</td>\n",
       "      <td>Father of the Bride Part II (1995)</td>\n",
       "      <td>Comedy</td>\n",
       "    </tr>\n",
       "  </tbody>\n",
       "</table>\n",
       "</div>"
      ],
      "text/plain": [
       "   movieId                               title  \\\n",
       "0        1                    Toy Story (1995)   \n",
       "1        2                      Jumanji (1995)   \n",
       "2        3             Grumpier Old Men (1995)   \n",
       "3        4            Waiting to Exhale (1995)   \n",
       "4        5  Father of the Bride Part II (1995)   \n",
       "\n",
       "                                        genres  \n",
       "0  Adventure|Animation|Children|Comedy|Fantasy  \n",
       "1                   Adventure|Children|Fantasy  \n",
       "2                               Comedy|Romance  \n",
       "3                         Comedy|Drama|Romance  \n",
       "4                                       Comedy  "
      ]
     },
     "execution_count": 59,
     "metadata": {},
     "output_type": "execute_result"
    }
   ],
   "source": [
    "# Loading the movie data set\n",
    "movies = pd.read_csv(\"F:\\machine learning projects\\CLASSIFICATION\\P03\\movies.csv\")\n",
    "movies.head()"
   ]
  },
  {
   "cell_type": "markdown",
   "id": "f15c4852",
   "metadata": {},
   "source": [
    "### Satistical analysis of Ratings"
   ]
  },
  {
   "cell_type": "code",
   "execution_count": 60,
   "id": "7a7d53da",
   "metadata": {},
   "outputs": [
    {
     "name": "stdout",
     "output_type": "stream",
     "text": [
      "Number of ratings: 100836\n",
      "Number of Unique movieID : 9724\n",
      "Number of Unique Users: 610\n",
      "Average Ratings per User: 165.3\n",
      "Average Ratings per Movie: 10.37\n"
     ]
    }
   ],
   "source": [
    "n_ratings = len(ratings)\n",
    "n_movies = len(ratings['movieId'].unique())\n",
    "n_users = len(ratings['userId'].unique())\n",
    "\n",
    "print(f\"Number of ratings: {n_ratings}\")\n",
    "print(f\"Number of Unique movieID : {n_movies}\")\n",
    "print(f\"Number of Unique Users: {n_users}\")\n",
    "print(f\"Average Ratings per User: {round(n_ratings/n_users, 2)}\")\n",
    "print(f\"Average Ratings per Movie: {round(n_ratings/ n_movies, 2)}\")"
   ]
  },
  {
   "cell_type": "markdown",
   "id": "bf7ca09b",
   "metadata": {},
   "source": [
    "### User Rating Frequency"
   ]
  },
  {
   "cell_type": "code",
   "execution_count": 61,
   "id": "e9f92977",
   "metadata": {},
   "outputs": [
    {
     "name": "stdout",
     "output_type": "stream",
     "text": [
      "   userId  n_ratings\n",
      "0       1        232\n",
      "1       2         29\n",
      "2       3         39\n",
      "3       4        216\n",
      "4       5         44\n"
     ]
    }
   ],
   "source": [
    "user_freq = ratings[[\"userId\", 'movieId']].groupby(\"userId\").count().reset_index()\n",
    "user_freq.columns =[\"userId\",\"n_ratings\"]\n",
    "print(user_freq.head())"
   ]
  },
  {
   "cell_type": "markdown",
   "id": "cbeaed4f",
   "metadata": {},
   "source": [
    "### Movie Rating analysis."
   ]
  },
  {
   "cell_type": "code",
   "execution_count": 62,
   "id": "e2ff2b4e",
   "metadata": {},
   "outputs": [
    {
     "data": {
      "text/html": [
       "<div>\n",
       "<style scoped>\n",
       "    .dataframe tbody tr th:only-of-type {\n",
       "        vertical-align: middle;\n",
       "    }\n",
       "\n",
       "    .dataframe tbody tr th {\n",
       "        vertical-align: top;\n",
       "    }\n",
       "\n",
       "    .dataframe thead th {\n",
       "        text-align: right;\n",
       "    }\n",
       "</style>\n",
       "<table border=\"1\" class=\"dataframe\">\n",
       "  <thead>\n",
       "    <tr style=\"text-align: right;\">\n",
       "      <th></th>\n",
       "      <th>movieId</th>\n",
       "      <th>title</th>\n",
       "      <th>genres</th>\n",
       "    </tr>\n",
       "  </thead>\n",
       "  <tbody>\n",
       "    <tr>\n",
       "      <th>2689</th>\n",
       "      <td>3604</td>\n",
       "      <td>Gypsy (1962)</td>\n",
       "      <td>Musical</td>\n",
       "    </tr>\n",
       "  </tbody>\n",
       "</table>\n",
       "</div>"
      ],
      "text/plain": [
       "      movieId         title   genres\n",
       "2689     3604  Gypsy (1962)  Musical"
      ]
     },
     "execution_count": 62,
     "metadata": {},
     "output_type": "execute_result"
    }
   ],
   "source": [
    "# Finding the Lowest and Highest rated movies\n",
    "mean_rating = ratings.groupby(\"movieId\")[[\"rating\"]].mean()\n",
    "\n",
    "# lOWEST RATED MOVIES\n",
    "lowest_rated = mean_rating[\"rating\"].idxmin()\n",
    "movies.loc[movies['movieId'] ==  lowest_rated]"
   ]
  },
  {
   "cell_type": "code",
   "execution_count": 63,
   "id": "a443b2d0",
   "metadata": {},
   "outputs": [
    {
     "data": {
      "text/html": [
       "<div>\n",
       "<style scoped>\n",
       "    .dataframe tbody tr th:only-of-type {\n",
       "        vertical-align: middle;\n",
       "    }\n",
       "\n",
       "    .dataframe tbody tr th {\n",
       "        vertical-align: top;\n",
       "    }\n",
       "\n",
       "    .dataframe thead th {\n",
       "        text-align: right;\n",
       "    }\n",
       "</style>\n",
       "<table border=\"1\" class=\"dataframe\">\n",
       "  <thead>\n",
       "    <tr style=\"text-align: right;\">\n",
       "      <th></th>\n",
       "      <th>movieId</th>\n",
       "      <th>title</th>\n",
       "      <th>genres</th>\n",
       "    </tr>\n",
       "  </thead>\n",
       "  <tbody>\n",
       "    <tr>\n",
       "      <th>48</th>\n",
       "      <td>53</td>\n",
       "      <td>Lamerica (1994)</td>\n",
       "      <td>Adventure|Drama</td>\n",
       "    </tr>\n",
       "  </tbody>\n",
       "</table>\n",
       "</div>"
      ],
      "text/plain": [
       "    movieId            title           genres\n",
       "48       53  Lamerica (1994)  Adventure|Drama"
      ]
     },
     "execution_count": 63,
     "metadata": {},
     "output_type": "execute_result"
    }
   ],
   "source": [
    "# HIGHEST RATED MOVIES\n",
    "highest_rated = mean_rating[\"rating\"].idxmax()\n",
    "movies.loc[movies['movieId'] ==  highest_rated]"
   ]
  },
  {
   "cell_type": "code",
   "execution_count": 64,
   "id": "85f1348b",
   "metadata": {},
   "outputs": [
    {
     "data": {
      "text/html": [
       "<div>\n",
       "<style scoped>\n",
       "    .dataframe tbody tr th:only-of-type {\n",
       "        vertical-align: middle;\n",
       "    }\n",
       "\n",
       "    .dataframe tbody tr th {\n",
       "        vertical-align: top;\n",
       "    }\n",
       "\n",
       "    .dataframe thead th {\n",
       "        text-align: right;\n",
       "    }\n",
       "</style>\n",
       "<table border=\"1\" class=\"dataframe\">\n",
       "  <thead>\n",
       "    <tr style=\"text-align: right;\">\n",
       "      <th></th>\n",
       "      <th>userId</th>\n",
       "      <th>movieId</th>\n",
       "      <th>rating</th>\n",
       "      <th>timestamp</th>\n",
       "    </tr>\n",
       "  </thead>\n",
       "  <tbody>\n",
       "    <tr>\n",
       "      <th>13368</th>\n",
       "      <td>85</td>\n",
       "      <td>53</td>\n",
       "      <td>5.0</td>\n",
       "      <td>889468268</td>\n",
       "    </tr>\n",
       "    <tr>\n",
       "      <th>96115</th>\n",
       "      <td>603</td>\n",
       "      <td>53</td>\n",
       "      <td>5.0</td>\n",
       "      <td>963180003</td>\n",
       "    </tr>\n",
       "  </tbody>\n",
       "</table>\n",
       "</div>"
      ],
      "text/plain": [
       "       userId  movieId  rating  timestamp\n",
       "13368      85       53     5.0  889468268\n",
       "96115     603       53     5.0  963180003"
      ]
     },
     "execution_count": 64,
     "metadata": {},
     "output_type": "execute_result"
    }
   ],
   "source": [
    "# Show Number of people who rated movies rated movie highest\n",
    "ratings[ratings['movieId'] == highest_rated]"
   ]
  },
  {
   "cell_type": "code",
   "execution_count": 65,
   "id": "ea6c53fe",
   "metadata": {},
   "outputs": [
    {
     "data": {
      "text/html": [
       "<div>\n",
       "<style scoped>\n",
       "    .dataframe tbody tr th:only-of-type {\n",
       "        vertical-align: middle;\n",
       "    }\n",
       "\n",
       "    .dataframe tbody tr th {\n",
       "        vertical-align: top;\n",
       "    }\n",
       "\n",
       "    .dataframe thead th {\n",
       "        text-align: right;\n",
       "    }\n",
       "</style>\n",
       "<table border=\"1\" class=\"dataframe\">\n",
       "  <thead>\n",
       "    <tr style=\"text-align: right;\">\n",
       "      <th></th>\n",
       "      <th>userId</th>\n",
       "      <th>movieId</th>\n",
       "      <th>rating</th>\n",
       "      <th>timestamp</th>\n",
       "    </tr>\n",
       "  </thead>\n",
       "  <tbody>\n",
       "    <tr>\n",
       "      <th>13633</th>\n",
       "      <td>89</td>\n",
       "      <td>3604</td>\n",
       "      <td>0.5</td>\n",
       "      <td>1520408880</td>\n",
       "    </tr>\n",
       "  </tbody>\n",
       "</table>\n",
       "</div>"
      ],
      "text/plain": [
       "       userId  movieId  rating   timestamp\n",
       "13633      89     3604     0.5  1520408880"
      ]
     },
     "execution_count": 65,
     "metadata": {},
     "output_type": "execute_result"
    }
   ],
   "source": [
    "# Show Number of people who rated movies rated movie Lowest\n",
    "ratings[ratings['movieId'] == lowest_rated]"
   ]
  },
  {
   "cell_type": "markdown",
   "id": "a4ee21bf",
   "metadata": {},
   "source": [
    "the follwing movies have very low dataset.\n",
    "\n",
    "we will use **BAYESIAN AVERAGE**"
   ]
  },
  {
   "cell_type": "code",
   "execution_count": 66,
   "id": "224c70a3",
   "metadata": {},
   "outputs": [
    {
     "data": {
      "text/html": [
       "<div>\n",
       "<style scoped>\n",
       "    .dataframe tbody tr th:only-of-type {\n",
       "        vertical-align: middle;\n",
       "    }\n",
       "\n",
       "    .dataframe tbody tr th {\n",
       "        vertical-align: top;\n",
       "    }\n",
       "\n",
       "    .dataframe thead th {\n",
       "        text-align: right;\n",
       "    }\n",
       "</style>\n",
       "<table border=\"1\" class=\"dataframe\">\n",
       "  <thead>\n",
       "    <tr style=\"text-align: right;\">\n",
       "      <th></th>\n",
       "      <th>count</th>\n",
       "      <th>mean</th>\n",
       "    </tr>\n",
       "    <tr>\n",
       "      <th>movieId</th>\n",
       "      <th></th>\n",
       "      <th></th>\n",
       "    </tr>\n",
       "  </thead>\n",
       "  <tbody>\n",
       "    <tr>\n",
       "      <th>1</th>\n",
       "      <td>215</td>\n",
       "      <td>3.920930</td>\n",
       "    </tr>\n",
       "    <tr>\n",
       "      <th>2</th>\n",
       "      <td>110</td>\n",
       "      <td>3.431818</td>\n",
       "    </tr>\n",
       "    <tr>\n",
       "      <th>3</th>\n",
       "      <td>52</td>\n",
       "      <td>3.259615</td>\n",
       "    </tr>\n",
       "    <tr>\n",
       "      <th>4</th>\n",
       "      <td>7</td>\n",
       "      <td>2.357143</td>\n",
       "    </tr>\n",
       "    <tr>\n",
       "      <th>5</th>\n",
       "      <td>49</td>\n",
       "      <td>3.071429</td>\n",
       "    </tr>\n",
       "  </tbody>\n",
       "</table>\n",
       "</div>"
      ],
      "text/plain": [
       "         count      mean\n",
       "movieId                 \n",
       "1          215  3.920930\n",
       "2          110  3.431818\n",
       "3           52  3.259615\n",
       "4            7  2.357143\n",
       "5           49  3.071429"
      ]
     },
     "execution_count": 66,
     "metadata": {},
     "output_type": "execute_result"
    }
   ],
   "source": [
    "movie_stats = ratings.groupby(\"movieId\")[[\"rating\"]].agg(['count','mean'])\n",
    "movie_stats.columns = movie_stats.columns.droplevel()\n",
    "movie_stats.head()"
   ]
  },
  {
   "cell_type": "markdown",
   "id": "8dd8e3a6",
   "metadata": {},
   "source": [
    "#### The Bayesian average may offer more accurate quality ratings for flims with a small number of ratings"
   ]
  },
  {
   "cell_type": "markdown",
   "id": "2e67da7a",
   "metadata": {},
   "source": [
    "### User-Item Matrix Creation"
   ]
  },
  {
   "cell_type": "markdown",
   "id": "1dfb1ede",
   "metadata": {},
   "source": [
    "I will create this User-Matrix using scipy csr matrix"
   ]
  },
  {
   "cell_type": "code",
   "execution_count": 67,
   "id": "d95e0f61",
   "metadata": {},
   "outputs": [],
   "source": [
    "from scipy.sparse import csr_matrix\n",
    "\n",
    "def create_matrix(df):\n",
    "    N = len(df[\"userId\"].unique())\n",
    "    M = len(df[\"movieId\"].unique())\n",
    "    \n",
    "    # map Ids to indices\n",
    "    user_mapper = dict(zip(np.unique(df[\"userId\"]), list(range(N))))\n",
    "    movie_mapper = dict(zip(np.unique(df[\"movieId\"]), list(range(M))))    \n",
    "    \n",
    "    # Map Indices to IDs\n",
    "    user_inv_mapper = dict(zip(list(range(N)),np.unique(df[\"userId\"])))\n",
    "    movie_inv_mapper = dict(zip(list(range(M)),np.unique(df[\"movieId\"])))    \n",
    "    \n",
    "    user_index = [user_mapper[i] for i in df['userId']]\n",
    "    movie_index = [movie_mapper[i] for i in df[\"movieId\"]]\n",
    "    \n",
    "    X =csr_matrix((df['rating'], (movie_index, user_index)), shape=(M,N))\n",
    "    \n",
    "    return X, user_mapper, movie_mapper, user_inv_mapper, movie_inv_mapper\n",
    "X, user_mapper, movie_mapper, user_inv_mapper, movie_inv_mapper = (create_matrix(ratings))"
   ]
  },
  {
   "cell_type": "markdown",
   "id": "91c0f123",
   "metadata": {},
   "source": [
    " ### A user matrix is a basic data strature in recomendation systems\n",
    "    it is created by the code given above\n",
    " this is how it works\n",
    " \n",
    " 1. To find the number of unique users and unique videos in the data set, N and M are computed.\n",
    " 2. There four dictionaries produced:\n",
    "     - User_mapper: Maps distict User IDs to indexes(User ID 1 becomes index 0.)\n",
    "     - movie_mapper: Converts distict movie IDs into indices(movie ID 1 bexomes index 0)\n",
    "     - user_inv_maper: Reverses the user mapper and maps indices back to user IDs.\n",
    "     - movie_inv_mapper: Reverses movie_mapper  by mapping indices to movie IDs\n",
    " 3. In oder to map the real user and movies IDs to their matching indices, the lists user_index and movie_index are generated\n",
    " 4. a spers matrix X is created using Scipy function csr_matrix. the user and movie indices that correspond to the rating values. It has a form of (M,N):\n",
    "     - M = QUANTITY of distict flims\n",
    "     - N = quantuty of distict consumers\n",
    "    "
   ]
  },
  {
   "cell_type": "markdown",
   "id": "d70079b2",
   "metadata": {},
   "source": [
    "### Movie Similarity Analysis\n",
    "we will use KNN *(k-Nearest Neighbors)* to perform this"
   ]
  },
  {
   "cell_type": "code",
   "execution_count": 68,
   "id": "3687fa0d",
   "metadata": {},
   "outputs": [],
   "source": [
    "from sklearn.neighbors import NearestNeighbors\n",
    "\n",
    "def find_similar_movies(movie_id, X, k, metric='cosine', show_distance=False):\n",
    "     \n",
    "    neighbour_ids = []\n",
    "     \n",
    "    movie_ind = movie_mapper[movie_id]\n",
    "    movie_vec = X[movie_ind]\n",
    "    k+=1\n",
    "    kNN = NearestNeighbors(n_neighbors=k, algorithm=\"brute\", metric=metric)\n",
    "    kNN.fit(X)\n",
    "    movie_vec = movie_vec.reshape(1,-1)\n",
    "    neighbour = kNN.kneighbors(movie_vec, return_distance=show_distance)\n",
    "    for i in range(0,k):\n",
    "        n = neighbour.item(i)\n",
    "        neighbour_ids.append(movie_inv_mapper[n])\n",
    "    neighbour_ids.pop(0)\n",
    "    return neighbour_ids\n",
    " \n",
    "# code written by Joseph Wathome\n",
    "movie_titles = dict(zip(movies['movieId'], movies['title']))\n"
   ]
  },
  {
   "cell_type": "code",
   "execution_count": 69,
   "id": "1a355d0a",
   "metadata": {},
   "outputs": [
    {
     "name": "stdout",
     "output_type": "stream",
     "text": [
      "Since you watched Grumpier Old Men (1995)\n",
      "Grumpy Old Men (1993)\n",
      "Striptease (1996)\n",
      "Nutty Professor, The (1996)\n",
      "Twister (1996)\n",
      "Father of the Bride Part II (1995)\n",
      "Broken Arrow (1996)\n",
      "Bio-Dome (1996)\n",
      "Truth About Cats & Dogs, The (1996)\n",
      "Sabrina (1995)\n",
      "Birdcage, The (1996)\n"
     ]
    }
   ],
   "source": [
    "movie_id = 3\n",
    "similar_ids = find_similar_movies(movie_id, X, k=10)\n",
    "movie_title = movie_titles[movie_id]\n",
    "\n",
    "print(f\"Since you watched {movie_title}\")\n",
    "for i in similar_ids:\n",
    "    print(movie_titles[i])"
   ]
  },
  {
   "cell_type": "markdown",
   "id": "5e92fcdd",
   "metadata": {},
   "source": [
    "### Movie recomendation with Respect to users Preference."
   ]
  },
  {
   "cell_type": "code",
   "execution_count": 76,
   "id": "e4ac42b1",
   "metadata": {},
   "outputs": [],
   "source": [
    "def recommend_movies_for_user(user_id, X, user_mapper, movie_mapper, movie_inv_mapper, k =10):\n",
    "    df1 = ratings[ratings['userId'] == user_id]\n",
    "    \n",
    "    if df1.empty:\n",
    "        print(f\"user with ID {user_id} does not Exist.\")\n",
    "        return\n",
    "    \n",
    "    movie_id =df1[df1['rating'] == max(df1['rating'])]['movieId'].iloc[0]\n",
    "    \n",
    "    movie_titles = dict(zip(movies['movieId'], movies['title']))\n",
    "    \n",
    "    similar_ids = find_similar_movies(movie_id, X, k)\n",
    "    movie_title = movie_titles.get(movie_id, 'Movie not found')\n",
    "    \n",
    "    if movie_title == 'Movie not found':\n",
    "        print(f\"Movie with ID {movie_id} Not Found\")\n",
    "        return\n",
    "    \n",
    "    print (f\"Since you watched {movie_title}, you might also Like: \")\n",
    "    for i in similar_ids:\n",
    "        print (movie_titles.get(i, \"Movie not found\"))\n",
    "        \n",
    "# code written by Joseph Wathome\n",
    "        "
   ]
  },
  {
   "cell_type": "markdown",
   "id": "0cbaf930",
   "metadata": {},
   "source": [
    "## Recommend the movies"
   ]
  },
  {
   "cell_type": "code",
   "execution_count": 77,
   "id": "e1b16b84",
   "metadata": {},
   "outputs": [
    {
     "name": "stdout",
     "output_type": "stream",
     "text": [
      "Since you watched Twelve Monkeys (a.k.a. 12 Monkeys) (1995), you might also Like: \n",
      "Pulp Fiction (1994)\n",
      "Terminator 2: Judgment Day (1991)\n",
      "Independence Day (a.k.a. ID4) (1996)\n",
      "Seven (a.k.a. Se7en) (1995)\n",
      "Fargo (1996)\n",
      "Fugitive, The (1993)\n",
      "Usual Suspects, The (1995)\n",
      "Jurassic Park (1993)\n",
      "Star Wars: Episode IV - A New Hope (1977)\n",
      "Heat (1995)\n"
     ]
    }
   ],
   "source": [
    "user_id = 150 # replace this with your desired user ID\n",
    "\n",
    "recommend_movies_for_user(user_id, X,user_mapper, movie_mapper, movie_inv_mapper, k=10)"
   ]
  },
  {
   "cell_type": "code",
   "execution_count": 78,
   "id": "22003a0a",
   "metadata": {},
   "outputs": [
    {
     "name": "stdout",
     "output_type": "stream",
     "text": [
      "user with ID 2300 does not Exist.\n"
     ]
    }
   ],
   "source": [
    "# if we use a user_id that is not in the rage of user IDs\n",
    "user_id = 2300 # replace this with your desired user ID\n",
    "\n",
    "recommend_movies_for_user(user_id, X,user_mapper, movie_mapper, movie_inv_mapper, k=10)"
   ]
  },
  {
   "cell_type": "markdown",
   "id": "d2c7bda4",
   "metadata": {},
   "source": [
    "# code written by Joseph Wathome"
   ]
  },
  {
   "cell_type": "markdown",
   "id": "21804fc2",
   "metadata": {},
   "source": [
    "In conclusion, developing a Python recommendation system allows for the creation of tailored content recommendations that improve user experience and take into account user preferences. Through the utilization of collaborative filtering, content-based filtering, and hybrid techniques, these systems are able to offer customized recommendations to consumers for content, movies, or items. These systems use sophisticated methods such as closest neighbors and matrix factorization to find hidden patterns in item attributes and user behavior. Recommendation systems are able to adjust and get better over time thanks to the combination of machine learning and data-driven insights. In the end, these solutions are essential for raising consumer satisfaction, improving user engagement, and propelling corporate expansion in a variety of industries."
   ]
  },
  {
   "cell_type": "code",
   "execution_count": null,
   "id": "c2907dea",
   "metadata": {},
   "outputs": [],
   "source": []
  }
 ],
 "metadata": {
  "kernelspec": {
   "display_name": "Python 3 (ipykernel)",
   "language": "python",
   "name": "python3"
  },
  "language_info": {
   "codemirror_mode": {
    "name": "ipython",
    "version": 3
   },
   "file_extension": ".py",
   "mimetype": "text/x-python",
   "name": "python",
   "nbconvert_exporter": "python",
   "pygments_lexer": "ipython3",
   "version": "3.11.5"
  }
 },
 "nbformat": 4,
 "nbformat_minor": 5
}
